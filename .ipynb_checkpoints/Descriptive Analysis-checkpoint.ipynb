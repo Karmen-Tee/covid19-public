{
 "cells": [
  {
   "cell_type": "markdown",
   "id": "6d917255",
   "metadata": {},
   "source": [
    "### Data Collection, Data Preparation, Data Visualisation on Malaysia's COVID-19 Data"
   ]
  },
  {
   "cell_type": "markdown",
   "id": "22e8041a",
   "metadata": {},
   "source": [
    "### Strategy1: Prevention of spread"
   ]
  },
  {
   "cell_type": "markdown",
   "id": "7d3d58fd",
   "metadata": {},
   "source": [
    "**Data Preparation: Exploration, Analysis and Visualisation**"
   ]
  },
  {
   "cell_type": "code",
   "execution_count": null,
   "id": "ce4c069f",
   "metadata": {},
   "outputs": [],
   "source": []
  },
  {
   "cell_type": "code",
   "execution_count": null,
   "id": "81aa1e3d",
   "metadata": {},
   "outputs": [],
   "source": []
  },
  {
   "cell_type": "markdown",
   "id": "74b98dc4",
   "metadata": {},
   "source": [
    "### Strategy 2: Healthcare capacity"
   ]
  },
  {
   "cell_type": "markdown",
   "id": "17949d6f",
   "metadata": {},
   "source": [
    "**Data Preparation: Exploration, Analysis and Visualisation**"
   ]
  },
  {
   "cell_type": "code",
   "execution_count": null,
   "id": "a3005cce",
   "metadata": {},
   "outputs": [],
   "source": []
  },
  {
   "cell_type": "code",
   "execution_count": null,
   "id": "5f3e0173",
   "metadata": {},
   "outputs": [],
   "source": []
  },
  {
   "cell_type": "markdown",
   "id": "e6011b8a",
   "metadata": {},
   "source": [
    "### Strategy 3: Vaccination"
   ]
  },
  {
   "cell_type": "markdown",
   "id": "bb5aec1f",
   "metadata": {},
   "source": [
    "**Data Preparation: Exploration, Analysis and Visualisation**"
   ]
  },
  {
   "cell_type": "code",
   "execution_count": null,
   "id": "5a10fc0c",
   "metadata": {},
   "outputs": [],
   "source": []
  },
  {
   "cell_type": "code",
   "execution_count": null,
   "id": "8c4d8a59",
   "metadata": {},
   "outputs": [],
   "source": []
  }
 ],
 "metadata": {
  "kernelspec": {
   "display_name": "Python 3",
   "language": "python",
   "name": "python3"
  },
  "language_info": {
   "codemirror_mode": {
    "name": "ipython",
    "version": 3
   },
   "file_extension": ".py",
   "mimetype": "text/x-python",
   "name": "python",
   "nbconvert_exporter": "python",
   "pygments_lexer": "ipython3",
   "version": "3.8.8"
  }
 },
 "nbformat": 4,
 "nbformat_minor": 5
}
